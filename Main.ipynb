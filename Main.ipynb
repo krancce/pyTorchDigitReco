{
 "cells": [
  {
   "cell_type": "code",
   "execution_count": 3,
   "metadata": {},
   "outputs": [],
   "source": [
    "from torchvision import datasets\n",
    "from torchvision.transforms import ToTensor"
   ]
  },
  {
   "cell_type": "code",
   "execution_count": 4,
   "metadata": {},
   "outputs": [],
   "source": [
    "train_data = datasets.MNIST(\n",
    "    root = 'data',\n",
    "    train = True,\n",
    "    transform = ToTensor(),\n",
    "    download = True\n",
    ")\n",
    "\n",
    "test_data = datasets.MNIST(\n",
    "    root = 'data',\n",
    "    train = False,\n",
    "    transform = ToTensor(),\n",
    "    download = True\n",
    ")"
   ]
  },
  {
   "cell_type": "code",
   "execution_count": 5,
   "metadata": {},
   "outputs": [
    {
     "data": {
      "text/plain": [
       "Dataset MNIST\n",
       "    Number of datapoints: 60000\n",
       "    Root location: data\n",
       "    Split: Train\n",
       "    StandardTransform\n",
       "Transform: ToTensor()"
      ]
     },
     "execution_count": 5,
     "metadata": {},
     "output_type": "execute_result"
    }
   ],
   "source": [
    "train_data"
   ]
  },
  {
   "cell_type": "code",
   "execution_count": 6,
   "metadata": {},
   "outputs": [
    {
     "data": {
      "text/plain": [
       "Dataset MNIST\n",
       "    Number of datapoints: 10000\n",
       "    Root location: data\n",
       "    Split: Test\n",
       "    StandardTransform\n",
       "Transform: ToTensor()"
      ]
     },
     "execution_count": 6,
     "metadata": {},
     "output_type": "execute_result"
    }
   ],
   "source": [
    "test_data"
   ]
  },
  {
   "cell_type": "code",
   "execution_count": 7,
   "metadata": {},
   "outputs": [
    {
     "data": {
      "text/plain": [
       "torch.Size([60000, 28, 28])"
      ]
     },
     "execution_count": 7,
     "metadata": {},
     "output_type": "execute_result"
    }
   ],
   "source": [
    "train_data.data.shape"
   ]
  },
  {
   "cell_type": "code",
   "execution_count": 8,
   "metadata": {},
   "outputs": [
    {
     "data": {
      "text/plain": [
       "tensor([5, 0, 4,  ..., 5, 6, 8])"
      ]
     },
     "execution_count": 8,
     "metadata": {},
     "output_type": "execute_result"
    }
   ],
   "source": [
    "train_data.targets # dataset.target shows the lable of the classified data"
   ]
  },
  {
   "cell_type": "markdown",
   "metadata": {},
   "source": [
    "# What is a DataLoader ?\n",
    "\n",
    "In PyTorch, a DataLoader is a utility class that simplifies the process of loading and iterating over datasets while training deep learning models. Here are some key features of DataLoader:\n",
    "\n",
    "**Batching:** It can divide the dataset into smaller batches, which helps in efficient training.\n",
    "\n",
    "**Shuffling:** It can shuffle the data to ensure that the model does not learn any unintended patterns.\n",
    "\n",
    "**Parallel Processing:** It can load data in parallel using multiple workers, which speeds up the data loading process.\n",
    "\n",
    "**Memory Pinning:** It can pin memory to improve the efficiency of data transfer to the GPU."
   ]
  },
  {
   "cell_type": "code",
   "execution_count": 9,
   "metadata": {},
   "outputs": [],
   "source": [
    "from torch.utils.data import DataLoader\n",
    "\n",
    "loaders = {\n",
    "    'train': DataLoader(train_data,batch_size=100,shuffle=True,num_workers=1),\n",
    "    'test': DataLoader(test_data,batch_size=100,shuffle=True,num_workers=1)\n",
    "}"
   ]
  },
  {
   "cell_type": "code",
   "execution_count": 10,
   "metadata": {},
   "outputs": [
    {
     "data": {
      "text/plain": [
       "{'train': <torch.utils.data.dataloader.DataLoader at 0x2b3d74cb560>,\n",
       " 'test': <torch.utils.data.dataloader.DataLoader at 0x2b3d537dfd0>}"
      ]
     },
     "execution_count": 10,
     "metadata": {},
     "output_type": "execute_result"
    }
   ],
   "source": [
    "loaders"
   ]
  },
  {
   "cell_type": "markdown",
   "metadata": {},
   "source": [
    "# What is nn.Model ?\n",
    "\n",
    "The nn.Module parameter is actually quite important in PyTorch. When you define a neural network class, it should inherit from nn.Module. This inheritance provides your class with a lot of useful methods and attributes that are essential for building and training neural networks.\n",
    "\n",
    "**Initialization and Structure:** By inheriting from nn.Module, your class gains the ability to register layers (like conv1, conv2, etc.) and parameters. This is crucial for PyTorch to keep track of the model’s parameters and their gradients.\n",
    "\n",
    "**Forward Propagation:** The forward method is a special method in nn.Module that defines the forward pass of the network. When you call your model on an input, it automatically calls the forward method.\n",
    "\n",
    "**Model Management:** Inheriting from nn.Module allows you to use various utility functions provided by PyTorch, such as model.eval(), model.train(), model.to(device), and more. These functions are essential for managing the model’s state and moving it between devices (CPU/GPU)."
   ]
  },
  {
   "cell_type": "code",
   "execution_count": 11,
   "metadata": {},
   "outputs": [],
   "source": [
    "import torch.nn as nn\n",
    "import torch.nn.functional as F\n",
    "import torch.optim as optim\n",
    "\n",
    "class CNN(nn.Module):\n",
    "\n",
    "    def __init__(self):\n",
    "        super(CNN,self).__init__()\n",
    "\n",
    "        self.conv1 = nn.Conv2d(1,10,kernel_size=5) # 1 input channel， 10 output channel, 5x5 kernel, 10 kernels\n",
    "        self.conv2 = nn.Conv2d(10,20,kernel_size=5) # 20 kernels\n",
    "        self.conv2_drop = nn.Dropout2d()\n",
    "        self.fc1 = nn.Linear(320,50)\n",
    "        self.fc2 = nn.Linear(50,10)\n",
    "\n",
    "    def forward(self, x):\n",
    "        x = F.relu(F.max_pool2d(self.conv1(x),2))\n",
    "        x = F.relu(F.max_pool2d(self.conv2_drop(self.conv2(x)),2))\n",
    "        x = x.view(-1,320)\n",
    "        x = F.relu(self.fc1(x))\n",
    "        x = F.dropout(x, training=self.training)\n",
    "        x = self.fc2(x)\n",
    "\n",
    "        return F.softmax(x)\n",
    "    "
   ]
  },
  {
   "cell_type": "markdown",
   "metadata": {},
   "source": [
    "**1.First Convolutional Layer (conv1):**\n",
    "- Input: 1 channel, 28x28 (assuming MNIST dataset)\n",
    "- Output: 10 channels, 24x24 (since kernel size is 5, the output size is reduced by 4)\n",
    "\n",
    "**2.First Max Pooling Layer:**\n",
    "- Output: 10 channels, 12x12 (pooling with kernel size 2 reduces each dimension by half)\n",
    "\n",
    "**3.Second Convolutional Layer (conv2):**\n",
    "- Input: 10 channels, 12x12\n",
    "- Output: 20 channels, 8x8 (again, kernel size 5 reduces each dimension by 4)\n",
    "\n",
    "**4.Second Max Pooling Layer:**\n",
    "- Output: 20 channels, 4x4 (pooling with kernel size 2 reduces each dimension by half)\n",
    "\n",
    "After these layers, the feature map has dimensions 20 channels x 4 height x 4 width. When you flatten this for the fully connected layer, you get (20 \\times 4 \\times 4 = 320) units.\n",
    "\n",
    "So, the input to the first fully connected layer (fc1) is 320 units."
   ]
  },
  {
   "cell_type": "code",
   "execution_count": 12,
   "metadata": {},
   "outputs": [
    {
     "name": "stdout",
     "output_type": "stream",
     "text": [
      "True\n",
      "2.4.1+cu124\n",
      "12.4\n"
     ]
    },
    {
     "data": {
      "text/plain": [
       "device(type='cuda')"
      ]
     },
     "execution_count": 12,
     "metadata": {},
     "output_type": "execute_result"
    }
   ],
   "source": [
    "import torch \n",
    "\n",
    "print(torch.cuda.is_available())\n",
    "print(torch.__version__)\n",
    "print(torch.version.cuda)\n",
    "\n",
    "device = torch.device('cuda' if torch.cuda.is_available() else 'cpu')\n",
    "\n",
    "device\n"
   ]
  },
  {
   "cell_type": "code",
   "execution_count": 13,
   "metadata": {},
   "outputs": [],
   "source": [
    "model = CNN().to(device)\n",
    "\n",
    "optimizer = optim.Adam(model.parameters(), lr=0.001)\n",
    "\n",
    "loss_fn = nn.CrossEntropyLoss()\n",
    "\n",
    "def train(epoch):\n",
    "    model.train()\n",
    "    for batch_index, (data,target) in enumerate(loaders['train']):\n",
    "        data,target = data.to(device), target.to(device)\n",
    "        optimizer.zero_grad()\n",
    "        output = model(data)\n",
    "        loss = loss_fn(output,target)\n",
    "        loss.backward()\n",
    "        optimizer.step()\n",
    "        if batch_index % 20 == 0:\n",
    "            print(f'Train Epoch: {epoch} [{batch_index*len(data)}/{len(loaders[\"train\"].dataset)} ({100.*batch_index/len(loaders[\"train\"]):.0f}%)]\\t{loss.item():.6f}')\n",
    "\n",
    "def test():\n",
    "    model.eval()\n",
    "\n",
    "    test_loss = 0\n",
    "    correct = 0 \n",
    "\n",
    "    with torch.no_grad():\n",
    "        for data, target in loaders['test']:\n",
    "            data, target = data.to(device), target.to(device)\n",
    "            output = model(data)\n",
    "            test_loss += loss_fn(output,target).item()\n",
    "            pred = output.argmax(dim=1, keepdim=True)\n",
    "            correct += pred.eq(target.view_as(pred)).sum().item()\n",
    "\n",
    "    test_loss /= len(loaders['test'].dataset)\n",
    "    print(f'\\nTest set: Average loss {test_loss:.4f}, Accuracy {correct}/{len(loaders[\"test\"].dataset)}({100.*correct/len(loaders[\"test\"].dataset):.0f}%\\n)')"
   ]
  },
  {
   "cell_type": "code",
   "execution_count": 14,
   "metadata": {},
   "outputs": [
    {
     "name": "stderr",
     "output_type": "stream",
     "text": [
      "C:\\Users\\jerry\\AppData\\Local\\Temp\\ipykernel_3288\\2577003603.py:24: UserWarning: Implicit dimension choice for softmax has been deprecated. Change the call to include dim=X as an argument.\n",
      "  return F.softmax(x)\n"
     ]
    },
    {
     "name": "stdout",
     "output_type": "stream",
     "text": [
      "Train Epoch: 1 [0/60000 (0%)]\t2.303684\n",
      "Train Epoch: 1 [2000/60000 (3%)]\t2.294044\n",
      "Train Epoch: 1 [4000/60000 (7%)]\t2.212990\n",
      "Train Epoch: 1 [6000/60000 (10%)]\t2.112004\n",
      "Train Epoch: 1 [8000/60000 (13%)]\t1.928479\n",
      "Train Epoch: 1 [10000/60000 (17%)]\t1.938187\n",
      "Train Epoch: 1 [12000/60000 (20%)]\t1.902271\n",
      "Train Epoch: 1 [14000/60000 (23%)]\t1.890950\n",
      "Train Epoch: 1 [16000/60000 (27%)]\t1.775415\n",
      "Train Epoch: 1 [18000/60000 (30%)]\t1.854022\n",
      "Train Epoch: 1 [20000/60000 (33%)]\t1.743333\n",
      "Train Epoch: 1 [22000/60000 (37%)]\t1.717463\n",
      "Train Epoch: 1 [24000/60000 (40%)]\t1.673501\n",
      "Train Epoch: 1 [26000/60000 (43%)]\t1.686477\n",
      "Train Epoch: 1 [28000/60000 (47%)]\t1.693278\n",
      "Train Epoch: 1 [30000/60000 (50%)]\t1.701470\n",
      "Train Epoch: 1 [32000/60000 (53%)]\t1.676902\n",
      "Train Epoch: 1 [34000/60000 (57%)]\t1.649023\n",
      "Train Epoch: 1 [36000/60000 (60%)]\t1.606541\n",
      "Train Epoch: 1 [38000/60000 (63%)]\t1.636781\n",
      "Train Epoch: 1 [40000/60000 (67%)]\t1.617451\n",
      "Train Epoch: 1 [42000/60000 (70%)]\t1.616845\n",
      "Train Epoch: 1 [44000/60000 (73%)]\t1.588206\n",
      "Train Epoch: 1 [46000/60000 (77%)]\t1.630770\n",
      "Train Epoch: 1 [48000/60000 (80%)]\t1.591531\n",
      "Train Epoch: 1 [50000/60000 (83%)]\t1.592576\n",
      "Train Epoch: 1 [52000/60000 (87%)]\t1.623286\n",
      "Train Epoch: 1 [54000/60000 (90%)]\t1.563854\n",
      "Train Epoch: 1 [56000/60000 (93%)]\t1.632204\n",
      "Train Epoch: 1 [58000/60000 (97%)]\t1.576852\n",
      "\n",
      "Test set: Average loss 0.0153, Accuracy 9312/10000(93%\n",
      ")\n",
      "Train Epoch: 2 [0/60000 (0%)]\t1.664485\n",
      "Train Epoch: 2 [2000/60000 (3%)]\t1.617134\n",
      "Train Epoch: 2 [4000/60000 (7%)]\t1.597438\n",
      "Train Epoch: 2 [6000/60000 (10%)]\t1.564471\n",
      "Train Epoch: 2 [8000/60000 (13%)]\t1.576768\n",
      "Train Epoch: 2 [10000/60000 (17%)]\t1.561490\n",
      "Train Epoch: 2 [12000/60000 (20%)]\t1.575990\n",
      "Train Epoch: 2 [14000/60000 (23%)]\t1.583459\n",
      "Train Epoch: 2 [16000/60000 (27%)]\t1.543004\n",
      "Train Epoch: 2 [18000/60000 (30%)]\t1.598958\n",
      "Train Epoch: 2 [20000/60000 (33%)]\t1.578096\n",
      "Train Epoch: 2 [22000/60000 (37%)]\t1.633470\n",
      "Train Epoch: 2 [24000/60000 (40%)]\t1.596803\n",
      "Train Epoch: 2 [26000/60000 (43%)]\t1.579226\n",
      "Train Epoch: 2 [28000/60000 (47%)]\t1.609441\n",
      "Train Epoch: 2 [30000/60000 (50%)]\t1.615226\n",
      "Train Epoch: 2 [32000/60000 (53%)]\t1.569775\n",
      "Train Epoch: 2 [34000/60000 (57%)]\t1.584504\n",
      "Train Epoch: 2 [36000/60000 (60%)]\t1.564276\n",
      "Train Epoch: 2 [38000/60000 (63%)]\t1.594193\n",
      "Train Epoch: 2 [40000/60000 (67%)]\t1.606820\n",
      "Train Epoch: 2 [42000/60000 (70%)]\t1.540652\n",
      "Train Epoch: 2 [44000/60000 (73%)]\t1.590712\n",
      "Train Epoch: 2 [46000/60000 (77%)]\t1.580163\n",
      "Train Epoch: 2 [48000/60000 (80%)]\t1.621866\n",
      "Train Epoch: 2 [50000/60000 (83%)]\t1.602412\n",
      "Train Epoch: 2 [52000/60000 (87%)]\t1.620821\n",
      "Train Epoch: 2 [54000/60000 (90%)]\t1.604433\n",
      "Train Epoch: 2 [56000/60000 (93%)]\t1.546975\n",
      "Train Epoch: 2 [58000/60000 (97%)]\t1.572540\n",
      "\n",
      "Test set: Average loss 0.0151, Accuracy 9525/10000(95%\n",
      ")\n",
      "Train Epoch: 3 [0/60000 (0%)]\t1.576299\n",
      "Train Epoch: 3 [2000/60000 (3%)]\t1.587283\n",
      "Train Epoch: 3 [4000/60000 (7%)]\t1.527547\n",
      "Train Epoch: 3 [6000/60000 (10%)]\t1.566429\n",
      "Train Epoch: 3 [8000/60000 (13%)]\t1.584272\n",
      "Train Epoch: 3 [10000/60000 (17%)]\t1.581553\n",
      "Train Epoch: 3 [12000/60000 (20%)]\t1.587383\n",
      "Train Epoch: 3 [14000/60000 (23%)]\t1.540783\n",
      "Train Epoch: 3 [16000/60000 (27%)]\t1.526847\n",
      "Train Epoch: 3 [18000/60000 (30%)]\t1.558386\n",
      "Train Epoch: 3 [20000/60000 (33%)]\t1.558078\n",
      "Train Epoch: 3 [22000/60000 (37%)]\t1.606968\n",
      "Train Epoch: 3 [24000/60000 (40%)]\t1.554050\n",
      "Train Epoch: 3 [26000/60000 (43%)]\t1.575492\n",
      "Train Epoch: 3 [28000/60000 (47%)]\t1.535702\n",
      "Train Epoch: 3 [30000/60000 (50%)]\t1.541759\n",
      "Train Epoch: 3 [32000/60000 (53%)]\t1.537160\n",
      "Train Epoch: 3 [34000/60000 (57%)]\t1.588446\n",
      "Train Epoch: 3 [36000/60000 (60%)]\t1.606395\n",
      "Train Epoch: 3 [38000/60000 (63%)]\t1.549002\n",
      "Train Epoch: 3 [40000/60000 (67%)]\t1.539933\n",
      "Train Epoch: 3 [42000/60000 (70%)]\t1.579468\n",
      "Train Epoch: 3 [44000/60000 (73%)]\t1.559247\n",
      "Train Epoch: 3 [46000/60000 (77%)]\t1.529704\n",
      "Train Epoch: 3 [48000/60000 (80%)]\t1.566527\n",
      "Train Epoch: 3 [50000/60000 (83%)]\t1.556881\n",
      "Train Epoch: 3 [52000/60000 (87%)]\t1.601197\n",
      "Train Epoch: 3 [54000/60000 (90%)]\t1.576033\n",
      "Train Epoch: 3 [56000/60000 (93%)]\t1.538860\n",
      "Train Epoch: 3 [58000/60000 (97%)]\t1.548500\n",
      "\n",
      "Test set: Average loss 0.0150, Accuracy 9579/10000(96%\n",
      ")\n",
      "Train Epoch: 4 [0/60000 (0%)]\t1.520726\n",
      "Train Epoch: 4 [2000/60000 (3%)]\t1.570042\n",
      "Train Epoch: 4 [4000/60000 (7%)]\t1.574304\n",
      "Train Epoch: 4 [6000/60000 (10%)]\t1.558263\n",
      "Train Epoch: 4 [8000/60000 (13%)]\t1.579282\n",
      "Train Epoch: 4 [10000/60000 (17%)]\t1.565419\n",
      "Train Epoch: 4 [12000/60000 (20%)]\t1.571726\n",
      "Train Epoch: 4 [14000/60000 (23%)]\t1.513420\n",
      "Train Epoch: 4 [16000/60000 (27%)]\t1.521304\n",
      "Train Epoch: 4 [18000/60000 (30%)]\t1.543341\n",
      "Train Epoch: 4 [20000/60000 (33%)]\t1.580350\n",
      "Train Epoch: 4 [22000/60000 (37%)]\t1.549861\n",
      "Train Epoch: 4 [24000/60000 (40%)]\t1.520171\n",
      "Train Epoch: 4 [26000/60000 (43%)]\t1.529941\n",
      "Train Epoch: 4 [28000/60000 (47%)]\t1.538178\n",
      "Train Epoch: 4 [30000/60000 (50%)]\t1.536271\n",
      "Train Epoch: 4 [32000/60000 (53%)]\t1.575279\n",
      "Train Epoch: 4 [34000/60000 (57%)]\t1.577559\n",
      "Train Epoch: 4 [36000/60000 (60%)]\t1.541117\n",
      "Train Epoch: 4 [38000/60000 (63%)]\t1.540076\n",
      "Train Epoch: 4 [40000/60000 (67%)]\t1.586858\n",
      "Train Epoch: 4 [42000/60000 (70%)]\t1.564966\n",
      "Train Epoch: 4 [44000/60000 (73%)]\t1.552673\n",
      "Train Epoch: 4 [46000/60000 (77%)]\t1.562617\n",
      "Train Epoch: 4 [48000/60000 (80%)]\t1.565405\n",
      "Train Epoch: 4 [50000/60000 (83%)]\t1.592468\n",
      "Train Epoch: 4 [52000/60000 (87%)]\t1.507436\n",
      "Train Epoch: 4 [54000/60000 (90%)]\t1.541432\n",
      "Train Epoch: 4 [56000/60000 (93%)]\t1.505585\n",
      "Train Epoch: 4 [58000/60000 (97%)]\t1.517117\n",
      "\n",
      "Test set: Average loss 0.0150, Accuracy 9644/10000(96%\n",
      ")\n",
      "Train Epoch: 5 [0/60000 (0%)]\t1.555319\n",
      "Train Epoch: 5 [2000/60000 (3%)]\t1.559695\n",
      "Train Epoch: 5 [4000/60000 (7%)]\t1.548934\n",
      "Train Epoch: 5 [6000/60000 (10%)]\t1.519197\n",
      "Train Epoch: 5 [8000/60000 (13%)]\t1.561369\n",
      "Train Epoch: 5 [10000/60000 (17%)]\t1.514424\n",
      "Train Epoch: 5 [12000/60000 (20%)]\t1.552053\n",
      "Train Epoch: 5 [14000/60000 (23%)]\t1.530041\n",
      "Train Epoch: 5 [16000/60000 (27%)]\t1.576162\n",
      "Train Epoch: 5 [18000/60000 (30%)]\t1.535583\n",
      "Train Epoch: 5 [20000/60000 (33%)]\t1.578616\n",
      "Train Epoch: 5 [22000/60000 (37%)]\t1.518123\n",
      "Train Epoch: 5 [24000/60000 (40%)]\t1.521770\n",
      "Train Epoch: 5 [26000/60000 (43%)]\t1.573470\n",
      "Train Epoch: 5 [28000/60000 (47%)]\t1.526598\n",
      "Train Epoch: 5 [30000/60000 (50%)]\t1.517237\n",
      "Train Epoch: 5 [32000/60000 (53%)]\t1.571946\n",
      "Train Epoch: 5 [34000/60000 (57%)]\t1.549048\n",
      "Train Epoch: 5 [36000/60000 (60%)]\t1.530523\n",
      "Train Epoch: 5 [38000/60000 (63%)]\t1.549226\n",
      "Train Epoch: 5 [40000/60000 (67%)]\t1.521582\n",
      "Train Epoch: 5 [42000/60000 (70%)]\t1.502694\n",
      "Train Epoch: 5 [44000/60000 (73%)]\t1.594989\n",
      "Train Epoch: 5 [46000/60000 (77%)]\t1.574000\n",
      "Train Epoch: 5 [48000/60000 (80%)]\t1.540517\n",
      "Train Epoch: 5 [50000/60000 (83%)]\t1.564649\n",
      "Train Epoch: 5 [52000/60000 (87%)]\t1.539029\n",
      "Train Epoch: 5 [54000/60000 (90%)]\t1.520325\n",
      "Train Epoch: 5 [56000/60000 (93%)]\t1.571410\n",
      "Train Epoch: 5 [58000/60000 (97%)]\t1.526470\n",
      "\n",
      "Test set: Average loss 0.0149, Accuracy 9671/10000(97%\n",
      ")\n",
      "Train Epoch: 6 [0/60000 (0%)]\t1.533454\n",
      "Train Epoch: 6 [2000/60000 (3%)]\t1.557137\n",
      "Train Epoch: 6 [4000/60000 (7%)]\t1.571657\n",
      "Train Epoch: 6 [6000/60000 (10%)]\t1.571631\n",
      "Train Epoch: 6 [8000/60000 (13%)]\t1.550923\n",
      "Train Epoch: 6 [10000/60000 (17%)]\t1.548488\n",
      "Train Epoch: 6 [12000/60000 (20%)]\t1.556386\n",
      "Train Epoch: 6 [14000/60000 (23%)]\t1.557162\n",
      "Train Epoch: 6 [16000/60000 (27%)]\t1.603366\n",
      "Train Epoch: 6 [18000/60000 (30%)]\t1.539373\n",
      "Train Epoch: 6 [20000/60000 (33%)]\t1.539883\n",
      "Train Epoch: 6 [22000/60000 (37%)]\t1.530782\n",
      "Train Epoch: 6 [24000/60000 (40%)]\t1.528368\n",
      "Train Epoch: 6 [26000/60000 (43%)]\t1.560144\n",
      "Train Epoch: 6 [28000/60000 (47%)]\t1.532357\n",
      "Train Epoch: 6 [30000/60000 (50%)]\t1.530029\n",
      "Train Epoch: 6 [32000/60000 (53%)]\t1.552022\n",
      "Train Epoch: 6 [34000/60000 (57%)]\t1.498317\n",
      "Train Epoch: 6 [36000/60000 (60%)]\t1.568601\n",
      "Train Epoch: 6 [38000/60000 (63%)]\t1.534083\n",
      "Train Epoch: 6 [40000/60000 (67%)]\t1.533221\n",
      "Train Epoch: 6 [42000/60000 (70%)]\t1.563929\n",
      "Train Epoch: 6 [44000/60000 (73%)]\t1.511521\n",
      "Train Epoch: 6 [46000/60000 (77%)]\t1.556790\n",
      "Train Epoch: 6 [48000/60000 (80%)]\t1.549423\n",
      "Train Epoch: 6 [50000/60000 (83%)]\t1.498582\n",
      "Train Epoch: 6 [52000/60000 (87%)]\t1.534099\n",
      "Train Epoch: 6 [54000/60000 (90%)]\t1.537285\n",
      "Train Epoch: 6 [56000/60000 (93%)]\t1.512748\n",
      "Train Epoch: 6 [58000/60000 (97%)]\t1.541543\n",
      "\n",
      "Test set: Average loss 0.0149, Accuracy 9673/10000(97%\n",
      ")\n",
      "Train Epoch: 7 [0/60000 (0%)]\t1.532270\n",
      "Train Epoch: 7 [2000/60000 (3%)]\t1.556537\n",
      "Train Epoch: 7 [4000/60000 (7%)]\t1.565699\n",
      "Train Epoch: 7 [6000/60000 (10%)]\t1.540175\n",
      "Train Epoch: 7 [8000/60000 (13%)]\t1.516007\n",
      "Train Epoch: 7 [10000/60000 (17%)]\t1.575050\n",
      "Train Epoch: 7 [12000/60000 (20%)]\t1.503193\n",
      "Train Epoch: 7 [14000/60000 (23%)]\t1.625345\n",
      "Train Epoch: 7 [16000/60000 (27%)]\t1.558935\n",
      "Train Epoch: 7 [18000/60000 (30%)]\t1.515924\n",
      "Train Epoch: 7 [20000/60000 (33%)]\t1.560088\n",
      "Train Epoch: 7 [22000/60000 (37%)]\t1.537527\n",
      "Train Epoch: 7 [24000/60000 (40%)]\t1.534407\n",
      "Train Epoch: 7 [26000/60000 (43%)]\t1.572300\n",
      "Train Epoch: 7 [28000/60000 (47%)]\t1.540879\n",
      "Train Epoch: 7 [30000/60000 (50%)]\t1.519625\n",
      "Train Epoch: 7 [32000/60000 (53%)]\t1.507829\n",
      "Train Epoch: 7 [34000/60000 (57%)]\t1.546917\n",
      "Train Epoch: 7 [36000/60000 (60%)]\t1.568640\n",
      "Train Epoch: 7 [38000/60000 (63%)]\t1.530023\n",
      "Train Epoch: 7 [40000/60000 (67%)]\t1.559555\n",
      "Train Epoch: 7 [42000/60000 (70%)]\t1.500227\n",
      "Train Epoch: 7 [44000/60000 (73%)]\t1.538211\n",
      "Train Epoch: 7 [46000/60000 (77%)]\t1.582839\n",
      "Train Epoch: 7 [48000/60000 (80%)]\t1.569781\n",
      "Train Epoch: 7 [50000/60000 (83%)]\t1.564164\n",
      "Train Epoch: 7 [52000/60000 (87%)]\t1.526824\n",
      "Train Epoch: 7 [54000/60000 (90%)]\t1.531644\n",
      "Train Epoch: 7 [56000/60000 (93%)]\t1.582170\n",
      "Train Epoch: 7 [58000/60000 (97%)]\t1.538129\n",
      "\n",
      "Test set: Average loss 0.0149, Accuracy 9692/10000(97%\n",
      ")\n",
      "Train Epoch: 8 [0/60000 (0%)]\t1.579512\n",
      "Train Epoch: 8 [2000/60000 (3%)]\t1.518940\n",
      "Train Epoch: 8 [4000/60000 (7%)]\t1.553935\n",
      "Train Epoch: 8 [6000/60000 (10%)]\t1.543755\n",
      "Train Epoch: 8 [8000/60000 (13%)]\t1.571072\n",
      "Train Epoch: 8 [10000/60000 (17%)]\t1.493839\n",
      "Train Epoch: 8 [12000/60000 (20%)]\t1.510291\n",
      "Train Epoch: 8 [14000/60000 (23%)]\t1.563944\n",
      "Train Epoch: 8 [16000/60000 (27%)]\t1.534750\n",
      "Train Epoch: 8 [18000/60000 (30%)]\t1.535730\n",
      "Train Epoch: 8 [20000/60000 (33%)]\t1.493031\n",
      "Train Epoch: 8 [22000/60000 (37%)]\t1.512431\n",
      "Train Epoch: 8 [24000/60000 (40%)]\t1.545013\n",
      "Train Epoch: 8 [26000/60000 (43%)]\t1.509162\n",
      "Train Epoch: 8 [28000/60000 (47%)]\t1.531115\n",
      "Train Epoch: 8 [30000/60000 (50%)]\t1.567124\n",
      "Train Epoch: 8 [32000/60000 (53%)]\t1.537741\n",
      "Train Epoch: 8 [34000/60000 (57%)]\t1.513548\n",
      "Train Epoch: 8 [36000/60000 (60%)]\t1.506912\n",
      "Train Epoch: 8 [38000/60000 (63%)]\t1.532581\n",
      "Train Epoch: 8 [40000/60000 (67%)]\t1.532944\n",
      "Train Epoch: 8 [42000/60000 (70%)]\t1.517972\n",
      "Train Epoch: 8 [44000/60000 (73%)]\t1.515019\n",
      "Train Epoch: 8 [46000/60000 (77%)]\t1.590578\n",
      "Train Epoch: 8 [48000/60000 (80%)]\t1.491373\n",
      "Train Epoch: 8 [50000/60000 (83%)]\t1.506609\n",
      "Train Epoch: 8 [52000/60000 (87%)]\t1.537192\n",
      "Train Epoch: 8 [54000/60000 (90%)]\t1.557076\n",
      "Train Epoch: 8 [56000/60000 (93%)]\t1.534970\n",
      "Train Epoch: 8 [58000/60000 (97%)]\t1.516741\n",
      "\n",
      "Test set: Average loss 0.0149, Accuracy 9694/10000(97%\n",
      ")\n",
      "Train Epoch: 9 [0/60000 (0%)]\t1.518233\n",
      "Train Epoch: 9 [2000/60000 (3%)]\t1.540540\n",
      "Train Epoch: 9 [4000/60000 (7%)]\t1.519521\n",
      "Train Epoch: 9 [6000/60000 (10%)]\t1.530820\n",
      "Train Epoch: 9 [8000/60000 (13%)]\t1.546122\n",
      "Train Epoch: 9 [10000/60000 (17%)]\t1.503258\n",
      "Train Epoch: 9 [12000/60000 (20%)]\t1.534813\n",
      "Train Epoch: 9 [14000/60000 (23%)]\t1.504012\n",
      "Train Epoch: 9 [16000/60000 (27%)]\t1.534615\n",
      "Train Epoch: 9 [18000/60000 (30%)]\t1.542241\n",
      "Train Epoch: 9 [20000/60000 (33%)]\t1.527217\n",
      "Train Epoch: 9 [22000/60000 (37%)]\t1.506663\n",
      "Train Epoch: 9 [24000/60000 (40%)]\t1.561631\n",
      "Train Epoch: 9 [26000/60000 (43%)]\t1.537314\n",
      "Train Epoch: 9 [28000/60000 (47%)]\t1.505724\n",
      "Train Epoch: 9 [30000/60000 (50%)]\t1.551799\n",
      "Train Epoch: 9 [32000/60000 (53%)]\t1.578325\n",
      "Train Epoch: 9 [34000/60000 (57%)]\t1.550779\n",
      "Train Epoch: 9 [36000/60000 (60%)]\t1.605763\n",
      "Train Epoch: 9 [38000/60000 (63%)]\t1.541322\n",
      "Train Epoch: 9 [40000/60000 (67%)]\t1.544118\n",
      "Train Epoch: 9 [42000/60000 (70%)]\t1.547162\n",
      "Train Epoch: 9 [44000/60000 (73%)]\t1.551078\n",
      "Train Epoch: 9 [46000/60000 (77%)]\t1.564066\n",
      "Train Epoch: 9 [48000/60000 (80%)]\t1.534016\n",
      "Train Epoch: 9 [50000/60000 (83%)]\t1.515798\n",
      "Train Epoch: 9 [52000/60000 (87%)]\t1.545456\n",
      "Train Epoch: 9 [54000/60000 (90%)]\t1.530424\n",
      "Train Epoch: 9 [56000/60000 (93%)]\t1.531762\n",
      "Train Epoch: 9 [58000/60000 (97%)]\t1.505363\n",
      "\n",
      "Test set: Average loss 0.0149, Accuracy 9677/10000(97%\n",
      ")\n",
      "Train Epoch: 10 [0/60000 (0%)]\t1.545266\n",
      "Train Epoch: 10 [2000/60000 (3%)]\t1.570641\n",
      "Train Epoch: 10 [4000/60000 (7%)]\t1.558099\n",
      "Train Epoch: 10 [6000/60000 (10%)]\t1.519102\n",
      "Train Epoch: 10 [8000/60000 (13%)]\t1.528846\n",
      "Train Epoch: 10 [10000/60000 (17%)]\t1.555998\n",
      "Train Epoch: 10 [12000/60000 (20%)]\t1.513307\n",
      "Train Epoch: 10 [14000/60000 (23%)]\t1.587244\n",
      "Train Epoch: 10 [16000/60000 (27%)]\t1.532131\n",
      "Train Epoch: 10 [18000/60000 (30%)]\t1.542229\n",
      "Train Epoch: 10 [20000/60000 (33%)]\t1.553850\n",
      "Train Epoch: 10 [22000/60000 (37%)]\t1.544077\n",
      "Train Epoch: 10 [24000/60000 (40%)]\t1.559652\n",
      "Train Epoch: 10 [26000/60000 (43%)]\t1.543124\n",
      "Train Epoch: 10 [28000/60000 (47%)]\t1.588217\n",
      "Train Epoch: 10 [30000/60000 (50%)]\t1.482167\n",
      "Train Epoch: 10 [32000/60000 (53%)]\t1.537823\n",
      "Train Epoch: 10 [34000/60000 (57%)]\t1.570305\n",
      "Train Epoch: 10 [36000/60000 (60%)]\t1.551475\n",
      "Train Epoch: 10 [38000/60000 (63%)]\t1.543380\n",
      "Train Epoch: 10 [40000/60000 (67%)]\t1.540352\n",
      "Train Epoch: 10 [42000/60000 (70%)]\t1.555228\n",
      "Train Epoch: 10 [44000/60000 (73%)]\t1.556019\n",
      "Train Epoch: 10 [46000/60000 (77%)]\t1.520471\n",
      "Train Epoch: 10 [48000/60000 (80%)]\t1.535282\n",
      "Train Epoch: 10 [50000/60000 (83%)]\t1.569466\n",
      "Train Epoch: 10 [52000/60000 (87%)]\t1.536602\n",
      "Train Epoch: 10 [54000/60000 (90%)]\t1.546839\n",
      "Train Epoch: 10 [56000/60000 (93%)]\t1.512957\n",
      "Train Epoch: 10 [58000/60000 (97%)]\t1.521463\n",
      "\n",
      "Test set: Average loss 0.0149, Accuracy 9737/10000(97%\n",
      ")\n"
     ]
    }
   ],
   "source": [
    "for epoch in range(1,11):\n",
    "    train(epoch)\n",
    "    test()"
   ]
  },
  {
   "cell_type": "code",
   "execution_count": 16,
   "metadata": {},
   "outputs": [
    {
     "name": "stderr",
     "output_type": "stream",
     "text": [
      "C:\\Users\\jerry\\AppData\\Local\\Temp\\ipykernel_3288\\2577003603.py:24: UserWarning: Implicit dimension choice for softmax has been deprecated. Change the call to include dim=X as an argument.\n",
      "  return F.softmax(x)\n"
     ]
    },
    {
     "name": "stdout",
     "output_type": "stream",
     "text": [
      "Prediction: 7\n"
     ]
    },
    {
     "data": {
      "image/png": "[encoded data removed]",
      "text/plain": [
       "<Figure size 640x480 with 1 Axes>"
      ]
     },
     "metadata": {},
     "output_type": "display_data"
    }
   ],
   "source": [
    "import matplotlib.pyplot as plt\n",
    "\n",
    "model.eval()\n",
    "\n",
    "data, target = test_data[0]\n",
    "\n",
    "data = data.unsqueeze(0).to(device)\n",
    "\n",
    "output = model(data)\n",
    "\n",
    "prediction = output.argmax(dim=1, keepdim=True).item()\n",
    "\n",
    "print(f'Prediction: {prediction}')\n",
    "\n",
    "image = data.squeeze(0).squeeze(0).cpu().numpy()\n",
    "\n",
    "plt.imshow(image, cmap='gray')\n",
    "plt.show()\n"
   ]
  }
 ],
 "metadata": {
  "kernelspec": {
   "display_name": "my_env",
   "language": "python",
   "name": "python3"
  },
  "language_info": {
   "codemirror_mode": {
    "name": "ipython",
    "version": 3
   },
   "file_extension": ".py",
   "mimetype": "text/x-python",
   "name": "python",
   "nbconvert_exporter": "python",
   "pygments_lexer": "ipython3",
   "version": "3.12.5"
  }
 },
 "nbformat": 4,
 "nbformat_minor": 2
}
